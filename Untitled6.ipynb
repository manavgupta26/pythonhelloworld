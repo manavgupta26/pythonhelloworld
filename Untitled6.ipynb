{
 "cells": [
  {
   "cell_type": "markdown",
   "id": "b307f48c-c73c-4f02-9b82-1eca464a6027",
   "metadata": {},
   "source": [
    "## heading"
   ]
  },
  {
   "cell_type": "code",
   "execution_count": 1,
   "id": "4dafd2bb-620e-4c14-aeeb-47558ce51e88",
   "metadata": {},
   "outputs": [
    {
     "name": "stdout",
     "output_type": "stream",
     "text": [
      "hello world\n"
     ]
    }
   ],
   "source": [
    "print(\"hello world\")"
   ]
  },
  {
   "cell_type": "markdown",
   "id": "d96a9df5-d729-4782-9d71-230da07b6256",
   "metadata": {},
   "source": [
    "**bold**"
   ]
  },
  {
   "cell_type": "markdown",
   "id": "6414b01a-13d7-406b-aefe-fe09b1468079",
   "metadata": {},
   "source": [
    "> this is a quote"
   ]
  },
  {
   "cell_type": "markdown",
   "id": "db2177c1-e2b9-41ae-a82f-adf2401dc624",
   "metadata": {},
   "source": [
    "here is my [instagram](www.instagram.com)"
   ]
  },
  {
   "cell_type": "code",
   "execution_count": null,
   "id": "6626077f-4e11-4d9d-b0d4-ce4ff6f2de99",
   "metadata": {},
   "outputs": [],
   "source": []
  }
 ],
 "metadata": {
  "kernelspec": {
   "display_name": "Python 3 (ipykernel)",
   "language": "python",
   "name": "python3"
  },
  "language_info": {
   "codemirror_mode": {
    "name": "ipython",
    "version": 3
   },
   "file_extension": ".py",
   "mimetype": "text/x-python",
   "name": "python",
   "nbconvert_exporter": "python",
   "pygments_lexer": "ipython3",
   "version": "3.11.7"
  }
 },
 "nbformat": 4,
 "nbformat_minor": 5
}
